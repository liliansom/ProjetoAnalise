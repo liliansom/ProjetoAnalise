{
 "cells": [
  {
   "cell_type": "markdown",
   "id": "67fbdba8",
   "metadata": {},
   "source": [
    "# Projeto Base"
   ]
  },
  {
   "cell_type": "markdown",
   "id": "381f5fc4",
   "metadata": {},
   "source": [
    "## Processo da Pesquisa"
   ]
  },
  {
   "cell_type": "markdown",
   "id": "18ebb766",
   "metadata": {},
   "source": [
    "1. Definição do Problema\n",
    "2. Obtenção dos Dados\n",
    "3. Exploração dos Dados\n",
    "4. Preparação dos Dados\n",
    "5. Construção do Modelo\n",
    "6. Avaliação"
   ]
  },
  {
   "cell_type": "markdown",
   "id": "a95a8dc7",
   "metadata": {},
   "source": [
    "### 1. Definição do Problema"
   ]
  },
  {
   "cell_type": "markdown",
   "id": "50078b3a",
   "metadata": {},
   "source": [
    "Realizar um projeto de Machine Learning utilizando os dados do Titanic, coletados no Kaggle."
   ]
  },
  {
   "cell_type": "markdown",
   "id": "e6029855",
   "metadata": {},
   "source": [
    "### 2. Obtenção dos Dados"
   ]
  },
  {
   "cell_type": "markdown",
   "id": "ab9416de",
   "metadata": {},
   "source": [
    "#### Banco de Dados\n",
    "\n",
    "[x] Realizar download do banco de dados do Titanic em https://www.kaggle.com/competitions/titanic/data\n",
    "\n",
    "[x] Extrair os dados para a pasta do repositório\n",
    "\n",
    "[x] Abrir os dados no Jupyter"
   ]
  },
  {
   "cell_type": "markdown",
   "id": "3d8f3277",
   "metadata": {},
   "source": [
    "### 3. Exploração dos Dados"
   ]
  },
  {
   "cell_type": "markdown",
   "id": "15367932",
   "metadata": {},
   "source": [
    "[x] Verificar a qualidade dos dados da tabela train\n",
    "\n",
    "[x] Verificar quantidade de dados nulos\n",
    "\n",
    "[x] Verificar quais colunas serão utilizadas\n",
    "\n",
    "[] "
   ]
  },
  {
   "cell_type": "markdown",
   "id": "295b80e4",
   "metadata": {},
   "source": [
    "## Dados Importante (ou não)"
   ]
  },
  {
   "cell_type": "markdown",
   "id": "913ae250",
   "metadata": {},
   "source": [
    "Botes salva-vidas\n",
    "20 botes\n",
    "Os 20 botes salva-vidas que o navio carregava poderiam acomodar 1178 pessoas, apesar de aproximadamente 2224 estarem a bordo. (https://pt.wikipedia.org/wiki/Botes_salva-vidas_do_RMS_Titanic)\n",
    "40-65 pessoas por bote\n",
    "1178 pessoas poderiam embarcar nos botes, porém\n"
   ]
  },
  {
   "cell_type": "markdown",
   "id": "ab2c550a",
   "metadata": {},
   "source": [
    "### 4. Preparação dos Dados"
   ]
  },
  {
   "cell_type": "markdown",
   "id": "dccaa058",
   "metadata": {},
   "source": []
  },
  {
   "cell_type": "markdown",
   "id": "d24af15e",
   "metadata": {},
   "source": [
    "### 5. Construção do Modelo"
   ]
  },
  {
   "cell_type": "markdown",
   "id": "50d5145f",
   "metadata": {},
   "source": []
  },
  {
   "cell_type": "markdown",
   "id": "3d956870",
   "metadata": {},
   "source": [
    "### 6. Avaliação"
   ]
  },
  {
   "cell_type": "markdown",
   "id": "da18a849",
   "metadata": {},
   "source": []
  },
  {
   "cell_type": "markdown",
   "id": "23d5fc39",
   "metadata": {},
   "source": [
    "## Finalização do projeto"
   ]
  },
  {
   "cell_type": "markdown",
   "id": "a45bc866",
   "metadata": {},
   "source": [
    "[] Finalizar ReadMe\n",
    "\n",
    "[] Finalizar ProjetoBase"
   ]
  }
 ],
 "metadata": {
  "kernelspec": {
   "display_name": "Python 3 (ipykernel)",
   "language": "python",
   "name": "python3"
  },
  "language_info": {
   "codemirror_mode": {
    "name": "ipython",
    "version": 3
   },
   "file_extension": ".py",
   "mimetype": "text/x-python",
   "name": "python",
   "nbconvert_exporter": "python",
   "pygments_lexer": "ipython3",
   "version": "3.9.16"
  }
 },
 "nbformat": 4,
 "nbformat_minor": 5
}
