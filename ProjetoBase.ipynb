{
 "cells": [
  {
   "cell_type": "markdown",
   "id": "67fbdba8",
   "metadata": {},
   "source": [
    "# Projeto Base"
   ]
  },
  {
   "cell_type": "markdown",
   "id": "e6029855",
   "metadata": {},
   "source": [
    "## Instalações"
   ]
  },
  {
   "cell_type": "markdown",
   "id": "ab9416de",
   "metadata": {},
   "source": [
    "[] "
   ]
  },
  {
   "cell_type": "markdown",
   "id": "3d8f3277",
   "metadata": {},
   "source": [
    "[]"
   ]
  },
  {
   "cell_type": "markdown",
   "id": "15367932",
   "metadata": {},
   "source": [
    "[]"
   ]
  },
  {
   "cell_type": "markdown",
   "id": "2fd0b77f",
   "metadata": {},
   "source": [
    "## Banco de Dados"
   ]
  },
  {
   "cell_type": "markdown",
   "id": "9b367c87",
   "metadata": {},
   "source": []
  },
  {
   "cell_type": "markdown",
   "id": "381f5fc4",
   "metadata": {},
   "source": [
    "## Criação da Pergunta de Pesquisa"
   ]
  },
  {
   "cell_type": "markdown",
   "id": "18ebb766",
   "metadata": {},
   "source": []
  },
  {
   "cell_type": "markdown",
   "id": "211454b2",
   "metadata": {},
   "source": [
    "## Tratamento de Dados"
   ]
  },
  {
   "cell_type": "markdown",
   "id": "050d7ef4",
   "metadata": {},
   "source": []
  },
  {
   "cell_type": "markdown",
   "id": "c0c0a89c",
   "metadata": {},
   "source": [
    "## Análise dos dados"
   ]
  },
  {
   "cell_type": "markdown",
   "id": "37dcdaf6",
   "metadata": {},
   "source": []
  },
  {
   "cell_type": "markdown",
   "id": "837d1008",
   "metadata": {},
   "source": [
    "## Gráficos"
   ]
  },
  {
   "cell_type": "markdown",
   "id": "a29c9818",
   "metadata": {},
   "source": []
  }
 ],
 "metadata": {
  "kernelspec": {
   "display_name": "Python 3 (ipykernel)",
   "language": "python",
   "name": "python3"
  },
  "language_info": {
   "codemirror_mode": {
    "name": "ipython",
    "version": 3
   },
   "file_extension": ".py",
   "mimetype": "text/x-python",
   "name": "python",
   "nbconvert_exporter": "python",
   "pygments_lexer": "ipython3",
   "version": "3.9.16"
  }
 },
 "nbformat": 4,
 "nbformat_minor": 5
}
