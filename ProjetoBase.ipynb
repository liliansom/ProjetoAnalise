{
 "cells": [
  {
   "cell_type": "markdown",
   "id": "67fbdba8",
   "metadata": {},
   "source": [
    "# Projeto Base"
   ]
  },
  {
   "cell_type": "markdown",
   "id": "e6029855",
   "metadata": {},
   "source": [
    "## Downloads e Instalações"
   ]
  },
  {
   "cell_type": "markdown",
   "id": "ab9416de",
   "metadata": {},
   "source": [
    "#### Banco de Dados\n",
    "\n",
    "[x] Realizar download do banco de dados do Titanic em https://www.kaggle.com/competitions/titanic/data\n",
    "\n",
    "[x] Extrair os dados para a pasta do repositório\n",
    "\n",
    "[] Abrir os dados no SQL Server"
   ]
  },
  {
   "cell_type": "markdown",
   "id": "3d8f3277",
   "metadata": {},
   "source": [
    "#### Power BI??"
   ]
  },
  {
   "cell_type": "markdown",
   "id": "15367932",
   "metadata": {},
   "source": [
    "[]"
   ]
  },
  {
   "cell_type": "markdown",
   "id": "381f5fc4",
   "metadata": {},
   "source": [
    "## Brainstorm das Perguntas de Pesquisa"
   ]
  },
  {
   "cell_type": "markdown",
   "id": "18ebb766",
   "metadata": {},
   "source": [
    "1. Qual foi a porcentagem dos passageiros sobreviventes?\n",
    "2. Qual era a faixa etária dos passageiros que estavam no Titanic?\n",
    "    2.1. A partir desta faixa etária, mais crianças ou mais adultos sobreviveram?\n",
    "3. As mulheres que estavam acompanhadas de crianças ou pais tiveram uma porcentagem maior de sobrevivência do que homens adultos?\n",
    "4. Qual a passagem mais cara e a mais barata?\n",
    "5. "
   ]
  },
  {
   "cell_type": "markdown",
   "id": "295b80e4",
   "metadata": {},
   "source": [
    "## Dados Importante (ou não)"
   ]
  },
  {
   "cell_type": "markdown",
   "id": "913ae250",
   "metadata": {},
   "source": [
    "Botes salva-vidas\n",
    "20 botes\n",
    "Os 20 botes salva-vidas que o navio carregava poderiam acomodar 1178 pessoas, apesar de aproximadamente 2224 estarem a bordo. (https://pt.wikipedia.org/wiki/Botes_salva-vidas_do_RMS_Titanic)\n",
    "40-65 pessoas por bote\n",
    "1178 pessoas poderiam embarcar nos botes, porém\n"
   ]
  },
  {
   "cell_type": "markdown",
   "id": "211454b2",
   "metadata": {},
   "source": [
    "## Tratamento de Dados"
   ]
  },
  {
   "cell_type": "markdown",
   "id": "2ec347c8",
   "metadata": {},
   "source": [
    "### SQL\n",
    "Com base nas perguntas da pesquisa:\n",
    "\n",
    "[] Verificar as colunas que serão importantes para a pesquisa\n",
    "\n",
    "[] Retirar as colunas que não serão utilizadas\n",
    "\n",
    "[] Analisar a apresentação dos dados restantes\n",
    "\n",
    "[] Compreender os pontos de atenção para tratamento dos dados\n",
    "\n",
    "    [] Dados a serem tratados:\n",
    "\n",
    "[] Tratar os dados apontados acima\n",
    "\n",
    "[] Salvar os dados\n",
    "\n",
    "[] Importar para o programa para ser analisado\n"
   ]
  },
  {
   "cell_type": "markdown",
   "id": "c0c0a89c",
   "metadata": {},
   "source": [
    "## Análise dos dados"
   ]
  },
  {
   "cell_type": "markdown",
   "id": "37dcdaf6",
   "metadata": {},
   "source": [
    "[] Abrir os dados a serem analisados\n",
    "[] Criar correlações entre os dados\n",
    "[] Gerar tabelas e informações\n",
    "[] Utilizar para gerar os gráficos ou dashboard"
   ]
  },
  {
   "cell_type": "markdown",
   "id": "837d1008",
   "metadata": {},
   "source": [
    "## Gráficos"
   ]
  },
  {
   "cell_type": "markdown",
   "id": "a29c9818",
   "metadata": {},
   "source": [
    "[] Gerar os gráficos ou dashboard"
   ]
  },
  {
   "cell_type": "markdown",
   "id": "dab3cd7b",
   "metadata": {},
   "source": [
    "## Apresentação dos resultados"
   ]
  },
  {
   "cell_type": "markdown",
   "id": "dfc9a6df",
   "metadata": {},
   "source": [
    "[] Apresentar os resultados da pesquisa"
   ]
  },
  {
   "cell_type": "markdown",
   "id": "23d5fc39",
   "metadata": {},
   "source": [
    "## Finalização do projeto"
   ]
  },
  {
   "cell_type": "markdown",
   "id": "a45bc866",
   "metadata": {},
   "source": [
    "[] Finalizar ReadMe\n",
    "\n",
    "[] Finalizar ProjetoBase"
   ]
  }
 ],
 "metadata": {
  "kernelspec": {
   "display_name": "Python 3 (ipykernel)",
   "language": "python",
   "name": "python3"
  },
  "language_info": {
   "codemirror_mode": {
    "name": "ipython",
    "version": 3
   },
   "file_extension": ".py",
   "mimetype": "text/x-python",
   "name": "python",
   "nbconvert_exporter": "python",
   "pygments_lexer": "ipython3",
   "version": "3.9.16"
  }
 },
 "nbformat": 4,
 "nbformat_minor": 5
}
