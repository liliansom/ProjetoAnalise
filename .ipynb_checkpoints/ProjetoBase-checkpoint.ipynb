{
 "cells": [
  {
   "cell_type": "markdown",
   "id": "67fbdba8",
   "metadata": {},
   "source": [
    "# Projeto Base Machine Learning"
   ]
  },
  {
   "cell_type": "markdown",
   "id": "381f5fc4",
   "metadata": {},
   "source": [
    "## Processo da Pesquisa"
   ]
  },
  {
   "cell_type": "markdown",
   "id": "af0dce35",
   "metadata": {},
   "source": [
    "[x] Descrição"
   ]
  },
  {
   "cell_type": "markdown",
   "id": "18ebb766",
   "metadata": {},
   "source": [
    "1. Definição do Problema\n",
    "2. Obtenção dos Dados\n",
    "3. Exploração dos Dados\n",
    "4. Preparação dos Dados\n",
    "5. Construção do Modelo\n",
    "6. Avaliação"
   ]
  },
  {
   "cell_type": "markdown",
   "id": "56b1db04",
   "metadata": {},
   "source": [
    "### 1. Definição do Problema"
   ]
  },
  {
   "cell_type": "markdown",
   "id": "72dc32cd",
   "metadata": {},
   "source": [
    "[x] Descrição"
   ]
  },
  {
   "cell_type": "markdown",
   "id": "e6029855",
   "metadata": {},
   "source": [
    "### 2. Obtenção dos Dados"
   ]
  },
  {
   "cell_type": "markdown",
   "id": "ab9416de",
   "metadata": {},
   "source": [
    "#### Banco de Dados\n",
    "\n",
    "[x] Escrever descrição\n",
    "\n",
    "[x] Realizar download do banco de dados do Titanic em https://www.kaggle.com/competitions/titanic/data\n",
    "\n",
    "[x] Extrair os dados para a pasta do repositório\n",
    "\n",
    "[x] Abrir os dados no Jupyter"
   ]
  },
  {
   "cell_type": "markdown",
   "id": "3d8f3277",
   "metadata": {},
   "source": [
    "### 3. Exploração dos Dados"
   ]
  },
  {
   "cell_type": "markdown",
   "id": "15367932",
   "metadata": {},
   "source": [
    "[x] Verificar a qualidade dos dados da tabela train\n",
    "\n",
    "[x] Verificar quantidade de dados nulos\n",
    "\n",
    "[x] Verificar quais colunas serão utilizadas"
   ]
  },
  {
   "cell_type": "markdown",
   "id": "295b80e4",
   "metadata": {},
   "source": [
    "## Dados Importante (ou não)"
   ]
  },
  {
   "cell_type": "markdown",
   "id": "913ae250",
   "metadata": {},
   "source": [
    "Botes salva-vidas\n",
    "20 botes\n",
    "Os 20 botes salva-vidas que o navio carregava poderiam acomodar 1178 pessoas, apesar de aproximadamente 2224 estarem a bordo. (https://pt.wikipedia.org/wiki/Botes_salva-vidas_do_RMS_Titanic)\n",
    "40-65 pessoas por bote\n",
    "1178 pessoas poderiam embarcar nos botes, porém\n"
   ]
  },
  {
   "cell_type": "markdown",
   "id": "58a87205",
   "metadata": {},
   "source": [
    "### 4. Preparação dos Dados"
   ]
  },
  {
   "cell_type": "markdown",
   "id": "908c14a4",
   "metadata": {},
   "source": [
    "[x] Descrição\n",
    "\n",
    "[x] Tratar os dados para realizar a construção dos modelos"
   ]
  },
  {
   "cell_type": "markdown",
   "id": "5ee9d532",
   "metadata": {},
   "source": [
    "### 5. Construção do Modelo"
   ]
  },
  {
   "cell_type": "markdown",
   "id": "d1b6373c",
   "metadata": {},
   "source": [
    "[x] Descrição\n",
    "\n",
    "[x] Realizar testes com modelos utilizando validação cruzada e regressão logística\n",
    "\n",
    "[x] Realizar análise de erros se necessário\n",
    "\n",
    "[x] Verificar acurácia dos modelos"
   ]
  },
  {
   "cell_type": "markdown",
   "id": "c997868c",
   "metadata": {},
   "source": [
    "### 6. Avaliação"
   ]
  },
  {
   "cell_type": "markdown",
   "id": "0a11d458",
   "metadata": {},
   "source": [
    "[x] Avaliar qual modelo possui maior acurácia\n",
    "\n",
    "[x] Transformar em csv para enviar ao Kaggle"
   ]
  },
  {
   "cell_type": "markdown",
   "id": "23d5fc39",
   "metadata": {},
   "source": [
    "## Finalização do projeto"
   ]
  },
  {
   "cell_type": "markdown",
   "id": "24f94308",
   "metadata": {},
   "source": [
    "[] Finalizar ReadMe\n",
    "\n",
    "[] Finalizar ProjetoBase\n",
    "\n",
    "[x] Finalizar descrições do projeto (storytelling)\n",
    "\n",
    "   [x] Pesquisar dados históricos\n",
    "   [x] Inserir fotos\n",
    "   [x] Inserir curiosidades\n",
    "\n",
    "\n",
    "[x] Verificar comentário do código\n",
    "\n",
    "[] Revisar storytelling"
   ]
  }
 ],
 "metadata": {
  "kernelspec": {
   "display_name": "Python 3 (ipykernel)",
   "language": "python",
   "name": "python3"
  },
  "language_info": {
   "codemirror_mode": {
    "name": "ipython",
    "version": 3
   },
   "file_extension": ".py",
   "mimetype": "text/x-python",
   "name": "python",
   "nbconvert_exporter": "python",
   "pygments_lexer": "ipython3",
   "version": "3.9.16"
  }
 },
 "nbformat": 4,
 "nbformat_minor": 5
}
